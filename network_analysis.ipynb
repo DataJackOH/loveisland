{
 "cells": [
  {
   "cell_type": "code",
   "execution_count": 1,
   "id": "8410a033",
   "metadata": {},
   "outputs": [
    {
     "name": "stderr",
     "output_type": "stream",
     "text": [
      "/Users/jackohagan/miniforge3/envs/tensorflow/lib/python3.9/site-packages/scipy/__init__.py:146: UserWarning: A NumPy version >=1.16.5 and <1.23.0 is required for this version of SciPy (detected version 1.23.0\n",
      "  warnings.warn(f\"A NumPy version >={np_minversion} and <{np_maxversion}\"\n"
     ]
    }
   ],
   "source": [
    "import pandas as pd # library for data analysis\n",
    "import requests # library to handle requests\n",
    "from bs4 import BeautifulSoup # library to parse HTML documents\n",
    "\n",
    "import plotly.express as px\n",
    "\n",
    "from sklearn.metrics import confusion_matrix\n",
    "import numpy as np\n",
    "\n",
    "import plotly.graph_objects as go\n",
    "\n",
    "import networkx as nx\n",
    "\n",
    "\n",
    "from operator import itemgetter\n",
    "\n",
    "\n"
   ]
  },
  {
   "cell_type": "code",
   "execution_count": 2,
   "id": "f2caad45",
   "metadata": {},
   "outputs": [],
   "source": [
    "#import csv of unique pairings \n",
    "df = pd.read_csv('couples_network.csv')\n"
   ]
  },
  {
   "cell_type": "code",
   "execution_count": 3,
   "id": "a512c122",
   "metadata": {},
   "outputs": [],
   "source": [
    "##filter value\n",
    "season = 8\n",
    "\n",
    "##filter\n",
    "\n",
    "df = df[df['series'] == season]"
   ]
  },
  {
   "cell_type": "code",
   "execution_count": 4,
   "id": "2a3c093a",
   "metadata": {},
   "outputs": [],
   "source": [
    "##groupe by canddiate and couple\n",
    "groups = df.groupby(['Candidate','Couple']).agg('count').reset_index().rename(columns={'Unnamed: 0':'weight','Candidate':'source','Couple':'target'})\n",
    "\n",
    "##connections\n",
    "sizes = df.groupby('Candidate').count().rename(columns={'Couple':'size'})"
   ]
  },
  {
   "cell_type": "code",
   "execution_count": 21,
   "id": "27fa44e3",
   "metadata": {},
   "outputs": [],
   "source": [
    "##convert to dict for networkx use\n",
    "sizesdict = sizes['size'].to_dict()"
   ]
  },
  {
   "cell_type": "markdown",
   "id": "06a36888",
   "metadata": {},
   "source": [
    "Now we have formatted data, create the network graph. \n",
    "We do this by creating nodes (our contestants) and edges (links between contestants)"
   ]
  },
  {
   "cell_type": "code",
   "execution_count": 6,
   "id": "5d7ed3d9",
   "metadata": {},
   "outputs": [],
   "source": [
    "# Convert your dataframe to graph\n",
    "G = nx.from_pandas_edgelist(groups, edge_attr=True)\n",
    "\n",
    "# Generate the layout and set the 'pos' attribute\n",
    "pos = nx.drawing.layout.spring_layout(G)\n",
    "pos = nx.fruchterman_reingold_layout(G, k=1, iterations=100)\n",
    "\n",
    "nx.set_node_attributes(G, pos,'pos')\n",
    "nx.set_node_attributes(G, sizesdict,'size')\n",
    "\n",
    "\n",
    "edge_x = []\n",
    "edge_y = []\n",
    "for edge in G.edges():\n",
    "    x0, y0 = G.nodes[edge[0]]['pos']\n",
    "    x1, y1 = G.nodes[edge[1]]['pos']\n",
    "    edge_x.append(x0)\n",
    "    edge_x.append(x1)\n",
    "    edge_x.append(None)\n",
    "    edge_y.append(y0)\n",
    "    edge_y.append(y1)\n",
    "    edge_y.append(None)"
   ]
  },
  {
   "cell_type": "code",
   "execution_count": 7,
   "id": "97356af9",
   "metadata": {},
   "outputs": [],
   "source": [
    "def make_edge(x, y, text, width):\n",
    "    \n",
    "    '''Creates a scatter trace for the edge between x's and y's with given width\n",
    "\n",
    "    Parameters\n",
    "    ----------\n",
    "    x    : a tuple of the endpoints' x-coordinates in the form, tuple([x0, x1, None])\n",
    "    \n",
    "    y    : a tuple of the endpoints' y-coordinates in the form, tuple([y0, y1, None])\n",
    "    \n",
    "    width: the width of the line\n",
    "\n",
    "    Returns\n",
    "    -------\n",
    "    An edge trace that goes between x0 and x1 with specified width.\n",
    "    '''\n",
    "    return  go.Scatter(x         = x,\n",
    "                       y         = y,\n",
    "                       line      = dict(width = width,\n",
    "                                   color = 'cornflowerblue'),\n",
    "                       hoverinfo = 'text',\n",
    "                       text      = ([text]),\n",
    "                       mode      = 'lines')"
   ]
  },
  {
   "cell_type": "code",
   "execution_count": 8,
   "id": "0b0be828",
   "metadata": {},
   "outputs": [],
   "source": [
    "# For each edge, make an edge_trace, append to list\n",
    "edge_trace = []\n",
    "for edge in G.edges():\n",
    "    \n",
    "    if G.edges()[edge]['weight'] > 0:\n",
    "        char_1 = edge[0]\n",
    "        char_2 = edge[1]\n",
    "\n",
    "        x0, y0 = pos[char_1]\n",
    "        x1, y1 = pos[char_2]\n",
    "\n",
    "        text   = char_1 + '--' + char_2 + ': ' + str(G.edges()[edge]['weight'])\n",
    "        \n",
    "        trace  = make_edge([x0, x1, None], [y0, y1, None], text,\n",
    "                           0.3*G.edges()[edge]['weight']**1.75)\n",
    "\n",
    "        edge_trace.append(trace)"
   ]
  },
  {
   "cell_type": "code",
   "execution_count": 9,
   "id": "50fcc5db",
   "metadata": {},
   "outputs": [],
   "source": [
    "# Make a node trace to visualise\n",
    "node_trace = go.Scatter(x         = [],\n",
    "                        y         = [],\n",
    "                        text      = [],\n",
    "                        textposition = \"top center\",\n",
    "                        textfont_size = 15,\n",
    "                        mode      = 'markers+text',\n",
    "                        hoverinfo = 'none',\n",
    "                        marker    = dict(color = [],\n",
    "                                         size  = [],\n",
    "                                         line  = None))\n",
    "# For each node in midsummer, get the position and size and add to the node_trace\n",
    "\n",
    "node_text = []\n",
    "\n",
    "for node in G.nodes():\n",
    "        x, y = pos[node]\n",
    "        node_trace['x'] += tuple([x])\n",
    "        node_trace['y'] += tuple([y])\n",
    "        node_trace['marker']['color'] += tuple(['cornflowerblue'])\n",
    "        node_trace['text'] += tuple(['<b>' + node + '</b>'])\n",
    "      #  node_trace['hovertemplate'] = tuple(['<b>' + str(G.nodes()[node]['size']) + '</b>'])\n",
    "        node_trace['marker']['size'] += tuple([5*G.nodes()[node]['size']])"
   ]
  },
  {
   "cell_type": "code",
   "execution_count": 10,
   "id": "fe9bdc37",
   "metadata": {},
   "outputs": [],
   "source": [
    "##layout and visualise node\n",
    "layout = go.Layout(\n",
    "    title = \"Love Island Series {} Recoupling Network Graph\".format(season),\n",
    "    paper_bgcolor=\"White\",\n",
    "    plot_bgcolor='rgba(0,0,0,0)',\n",
    "    width=1500,\n",
    "    height=750,\n",
    ")\n",
    "\n",
    "\n",
    "fig = go.Figure(layout = layout)\n",
    "\n",
    "for trace in edge_trace:\n",
    "    fig.add_trace(trace)\n",
    "\n",
    "fig.add_trace(node_trace)\n",
    "\n",
    "fig.update_layout(showlegend = False)\n",
    "\n",
    "\n",
    "fig.update_xaxes(showgrid=False, zeroline=False, showticklabels = False)\n",
    "fig.update_yaxes(showgrid=False, zeroline=False, showticklabels = False)\n",
    "\n",
    "fig.write_image('visuals/series_{}_graph.png'.format(season))\n",
    "\n"
   ]
  },
  {
   "cell_type": "code",
   "execution_count": 11,
   "id": "ea0f3238",
   "metadata": {},
   "outputs": [],
   "source": [
    "degree_dict = dict(G.degree(G.nodes()))\n",
    "nx.set_node_attributes(G, degree_dict, 'degree')"
   ]
  },
  {
   "cell_type": "code",
   "execution_count": 12,
   "id": "6bbc0cbd",
   "metadata": {},
   "outputs": [],
   "source": [
    "sorted_degree = sorted(degree_dict.items(), key=itemgetter(1), reverse=True)"
   ]
  },
  {
   "cell_type": "code",
   "execution_count": 13,
   "id": "16a70770",
   "metadata": {},
   "outputs": [
    {
     "name": "stdout",
     "output_type": "stream",
     "text": [
      "Top 5 nodes by degree:\n",
      "('Danica', 6)\n",
      "('Paige', 4)\n",
      "('Jay', 4)\n",
      "('Dami', 3)\n",
      "('Davide', 3)\n"
     ]
    }
   ],
   "source": [
    "print(\"Top 5 nodes by degree:\")\n",
    "for d in sorted_degree[:5]:\n",
    "    print(d)"
   ]
  },
  {
   "cell_type": "code",
   "execution_count": 14,
   "id": "dc39bd92",
   "metadata": {},
   "outputs": [],
   "source": [
    "betweenness_dict = nx.betweenness_centrality(G) # Run betweenness centrality\n",
    "eigenvector_dict = nx.eigenvector_centrality(G) # Run eigenvector centrality\n",
    "closeness_dict = nx.closeness_centrality(G) # Run eigenvector centrality\n",
    "\n",
    "\n",
    "pagerank_dict = nx.pagerank(G) # Run pagerank centrality\n",
    "\n",
    "# Assign each to an attribute in your network\n",
    "nx.set_node_attributes(G, betweenness_dict, 'betweenness')\n",
    "nx.set_node_attributes(G, eigenvector_dict, 'eigenvector')\n",
    "\n",
    "nx.set_node_attributes(G, pagerank_dict, 'pagerank')\n",
    "\n",
    "nx.set_node_attributes(G, closeness_dict, 'closeness')"
   ]
  },
  {
   "cell_type": "code",
   "execution_count": 16,
   "id": "4fa328e9",
   "metadata": {},
   "outputs": [
    {
     "name": "stdout",
     "output_type": "stream",
     "text": [
      "Top 5 nodes by closesness centrality:\n",
      "('Danica', 0.3404139433551199)\n",
      "('Jay', 0.2967711301044635)\n",
      "('Josh', 0.2967711301044635)\n",
      "('Luca', 0.28935185185185186)\n",
      "('Billy', 0.2822944896115628)\n"
     ]
    }
   ],
   "source": [
    "sorted_closeness = sorted(closeness_dict.items(), key=itemgetter(1), reverse=True)\n",
    "\n",
    "print(\"Top 5 nodes by closesness centrality:\")\n",
    "for b in sorted_closeness[:5]:\n",
    "    print(b)"
   ]
  },
  {
   "cell_type": "code",
   "execution_count": null,
   "id": "662c4f5e",
   "metadata": {},
   "outputs": [],
   "source": []
  }
 ],
 "metadata": {
  "kernelspec": {
   "display_name": "Python 3.9.7 64-bit ('tensorflow': conda)",
   "language": "python",
   "name": "python397jvsc74a57bd0337e303501a1416777e0cc7d79d211bc322bfcf665c476018ac614fb4ea44fef"
  },
  "language_info": {
   "codemirror_mode": {
    "name": "ipython",
    "version": 3
   },
   "file_extension": ".py",
   "mimetype": "text/x-python",
   "name": "python",
   "nbconvert_exporter": "python",
   "pygments_lexer": "ipython3",
   "version": "3.9.7"
  }
 },
 "nbformat": 4,
 "nbformat_minor": 5
}
